{
 "cells": [
  {
   "cell_type": "code",
   "execution_count": 4,
   "id": "448a68f6-acdf-4396-a0ac-c8a76d6f65c5",
   "metadata": {},
   "outputs": [
    {
     "data": {
      "text/plain": [
       "True"
      ]
     },
     "execution_count": 4,
     "metadata": {},
     "output_type": "execute_result"
    }
   ],
   "source": [
    "from dotenv import load_dotenv\n",
    "import os\n",
    "\n",
    "load_dotenv()"
   ]
  },
  {
   "cell_type": "code",
   "execution_count": 7,
   "id": "d237154d-5172-4387-bca0-d762eb6daaaa",
   "metadata": {},
   "outputs": [],
   "source": [
    "factory_coord = os.getenv(\"FACTORY_GEO_COORD\") "
   ]
  },
  {
   "cell_type": "code",
   "execution_count": 1,
   "id": "cc807963-331a-47a5-b315-59da6b03e433",
   "metadata": {},
   "outputs": [],
   "source": [
    "class Installer:\n",
    "    def __init__(self,id):\n",
    "        self.id = id\n",
    "        self.avail = True\n",
    "        self.geo_coord = factory_coord\n",
    "        self.time_spent = 0\n",
    "        \n",
    "    def reset_time_spent(self):\n",
    "        self.time_spent = 0\n",
    "    \n",
    "    def reset_location(self):\n",
    "        self.geo_coord = factory_coord\n",
    "    \n",
    "    def overtime(self):\n",
    "        if self.time_spent >= 480:\n",
    "            return True\n",
    "        else:\n",
    "            return False"
   ]
  },
  {
   "cell_type": "code",
   "execution_count": 11,
   "id": "c6d6f2fe-006c-4a4b-8e5c-86261f30d0bf",
   "metadata": {},
   "outputs": [],
   "source": [
    "class Job:\n",
    "    def __init__(self,job_coord,exp_job_time,est_ins_date,num_installers):\n",
    "        self.start_time = None\n",
    "        self.end_time = None\n",
    "        self.job_location = job_coord\n",
    "        self.exp_job_time = exp_job_time\n",
    "        self.deadline = est_ins_date\n",
    "        self.num_installers = num_installers\n",
    "        self.review = False\n",
    "        self.worker_ids = []"
   ]
  },
  {
   "cell_type": "code",
   "execution_count": null,
   "id": "0481e198-7c65-44a2-8289-8f3a46fb3aec",
   "metadata": {},
   "outputs": [],
   "source": []
  }
 ],
 "metadata": {
  "kernelspec": {
   "display_name": "Python 3 (ipykernel)",
   "language": "python",
   "name": "python3"
  },
  "language_info": {
   "codemirror_mode": {
    "name": "ipython",
    "version": 3
   },
   "file_extension": ".py",
   "mimetype": "text/x-python",
   "name": "python",
   "nbconvert_exporter": "python",
   "pygments_lexer": "ipython3",
   "version": "3.9.12"
  }
 },
 "nbformat": 4,
 "nbformat_minor": 5
}
