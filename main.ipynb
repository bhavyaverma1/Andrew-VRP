{
 "cells": [
  {
   "cell_type": "code",
   "execution_count": 1,
   "id": "f1d0629d-ccd9-4d90-9435-76a48c05b85e",
   "metadata": {},
   "outputs": [
    {
     "data": {
      "text/plain": [
       "True"
      ]
     },
     "execution_count": 1,
     "metadata": {},
     "output_type": "execute_result"
    }
   ],
   "source": [
    "from classes import *\n",
    "from helper_functions import *\n",
    "import pandas as pd\n",
    "import numpy as np\n",
    "\n",
    "import datetime\n",
    "from datetime import date\n",
    "\n",
    "from dotenv import load_dotenv\n",
    "import os\n",
    "\n",
    "load_dotenv()"
   ]
  },
  {
   "cell_type": "code",
   "execution_count": 2,
   "id": "8baa0fcb-c0a1-475e-84c0-14c23f917276",
   "metadata": {},
   "outputs": [],
   "source": [
    "# Importing the dataset\n",
    "df = pd.read_csv('data/test01.csv')"
   ]
  },
  {
   "cell_type": "code",
   "execution_count": 3,
   "id": "ed718a91-402f-4150-a085-6159cfefd387",
   "metadata": {},
   "outputs": [],
   "source": [
    "# Convert datetime columns to their correct types respectively\n",
    "df['est_installation_date'] = pd.to_datetime(df['est_installation_date'],dayfirst=True)\n",
    "\n",
    "#Sort according to the [deadline date, distance to customer] for optimally processing the jobs\n",
    "df = df.sort_values(by=['est_installation_date','travel_time'], ascending=[True,True],ignore_index=True)"
   ]
  },
  {
   "cell_type": "code",
   "execution_count": 4,
   "id": "02ed8022-5b96-4fb3-9902-1bfc77a03503",
   "metadata": {},
   "outputs": [
    {
     "data": {
      "text/html": [
       "<div>\n",
       "<style scoped>\n",
       "    .dataframe tbody tr th:only-of-type {\n",
       "        vertical-align: middle;\n",
       "    }\n",
       "\n",
       "    .dataframe tbody tr th {\n",
       "        vertical-align: top;\n",
       "    }\n",
       "\n",
       "    .dataframe thead th {\n",
       "        text-align: right;\n",
       "    }\n",
       "</style>\n",
       "<table border=\"1\" class=\"dataframe\">\n",
       "  <thead>\n",
       "    <tr style=\"text-align: right;\">\n",
       "      <th></th>\n",
       "      <th>id</th>\n",
       "      <th>job_geo_coordinate</th>\n",
       "      <th>start_geo_coordinate</th>\n",
       "      <th>travel_time</th>\n",
       "      <th>installers_required</th>\n",
       "      <th>expected_job_time</th>\n",
       "      <th>est_installation_date</th>\n",
       "      <th>installation_date</th>\n",
       "      <th>arrival_start_time</th>\n",
       "      <th>arrival_end_time</th>\n",
       "      <th>INSTALLER_IDs</th>\n",
       "    </tr>\n",
       "  </thead>\n",
       "  <tbody>\n",
       "    <tr>\n",
       "      <th>0</th>\n",
       "      <td>70307</td>\n",
       "      <td>-34.7996109,138.7078888</td>\n",
       "      <td>-34.7810071,138.6461490</td>\n",
       "      <td>13.0</td>\n",
       "      <td>1</td>\n",
       "      <td>120.0</td>\n",
       "      <td>2023-01-14</td>\n",
       "      <td>NaN</td>\n",
       "      <td>NaN</td>\n",
       "      <td>NaN</td>\n",
       "      <td>NaN</td>\n",
       "    </tr>\n",
       "    <tr>\n",
       "      <th>1</th>\n",
       "      <td>70920</td>\n",
       "      <td>-34.8307492,138.7029293</td>\n",
       "      <td>-34.7810071,138.6461490</td>\n",
       "      <td>14.0</td>\n",
       "      <td>1</td>\n",
       "      <td>60.0</td>\n",
       "      <td>2023-01-14</td>\n",
       "      <td>NaN</td>\n",
       "      <td>NaN</td>\n",
       "      <td>NaN</td>\n",
       "      <td>NaN</td>\n",
       "    </tr>\n",
       "  </tbody>\n",
       "</table>\n",
       "</div>"
      ],
      "text/plain": [
       "      id       job_geo_coordinate     start_geo_coordinate  travel_time  \\\n",
       "0  70307  -34.7996109,138.7078888  -34.7810071,138.6461490         13.0   \n",
       "1  70920  -34.8307492,138.7029293  -34.7810071,138.6461490         14.0   \n",
       "\n",
       "   installers_required  expected_job_time est_installation_date  \\\n",
       "0                    1              120.0            2023-01-14   \n",
       "1                    1               60.0            2023-01-14   \n",
       "\n",
       "  installation_date arrival_start_time arrival_end_time  INSTALLER_IDs  \n",
       "0               NaN                NaN              NaN            NaN  \n",
       "1               NaN                NaN              NaN            NaN  "
      ]
     },
     "execution_count": 4,
     "metadata": {},
     "output_type": "execute_result"
    }
   ],
   "source": [
    "df.head(2)"
   ]
  },
  {
   "cell_type": "code",
   "execution_count": 10,
   "id": "0a685fd7-387d-45ed-83ff-37a612497251",
   "metadata": {},
   "outputs": [],
   "source": [
    "# Planning dates from tomorrow or later\n",
    "first_date = date.today() + datetime.timedelta(days=1) \n",
    "first_date_weekday = first_date.weekday()\n",
    "\n",
    "# Following [[ 5 ]] day in a week work rule\n",
    "if first_date_weekday == 5: # i.e Saturday\n",
    "    first_date += datetime.timedelta(days=2)\n",
    "elif first_date_weekday == 6:\n",
    "    first_date += datetime.timedelta(days=1)"
   ]
  },
  {
   "cell_type": "code",
   "execution_count": 11,
   "id": "6b0f4fcb-855b-4d68-9c87-97d8dcfd10b6",
   "metadata": {},
   "outputs": [],
   "source": [
    "# Creating test_installers\n",
    "num_installers = 5\n",
    "installers = []\n",
    "for i in range(num_installers):\n",
    "    installers.append(Installer(i))\n",
    "installers_avail = num_installers"
   ]
  },
  {
   "cell_type": "code",
   "execution_count": 12,
   "id": "d8a26e7f-81a2-41a6-9fca-5aece1d0384e",
   "metadata": {},
   "outputs": [
    {
     "name": "stdout",
     "output_type": "stream",
     "text": [
      "[0]\n"
     ]
    }
   ],
   "source": [
    "for index, row in df.iterrows():\n",
    "    # Check current_date < deadline\n",
    "    if curr_date > row[\"est_installation_date\"].date():\n",
    "        print(index,'Unable to process dates before '+curr_date)\n",
    "    # Check if enough workers_available \n",
    "    if row[\"installers_required\"] > installers_avail:\n",
    "        print(index,'Low number of installers available for the job')\n",
    "        break\n",
    "        \n",
    "    # Installers to send\n",
    "    ins_avail_dist=[]\n",
    "    for installer in installers:\n",
    "        if installer.avail == False:\n",
    "            continue\n",
    "        curr_ins_dist = travel_time(installer.geo_coord,row[\"job_geo_coordinate\"])\n",
    "        ins_avail_dist.append((installer.id,curr_ins_dist))\n",
    "    ins_avail_dist = sorted(ins_avail_dist,key=lambda x: x[1])\n",
    "    ins_to_send = []\n",
    "    for i in range(row[\"installers_required\"]):\n",
    "        ins_to_send.append(ins_avail_dist[i][0])\n",
    "    # Code to test 480 to be added above\n",
    "    \n",
    "    # Assign jobs to those installers\n",
    "    print(ins_to_send)\n",
    "    for ins_id in ins_to_send:\n",
    "        installer = installer[ins_id]\n",
    "        installer.avail = False\n",
    "        \n",
    "        installer.geo_coord = row[\"job_geo_coordinate\"] \n",
    "        if installer.start_time = None:\n",
    "            installer.start_time = datetime.datetime.combine(curr_date,datetime.time()) + datetime.timedelta(hours=8)\n",
    "            installer.end_time = installer.start_time + datetime.timedelta(minutes=row[\"expected_job_time\"])\n",
    "            installer.time_spent += row[\"expected_job_time\"] + travel_time(installer.geo_coord,row[\"job_geo_coordinate\"])\n",
    "        installer.end_time = None"
   ]
  },
  {
   "cell_type": "code",
   "execution_count": 6,
   "id": "bcfcffa2-8bdf-412f-b5e5-d27c8ef1deab",
   "metadata": {},
   "outputs": [],
   "source": [
    "dd=date.today()+datetime.timedelta(days=1)"
   ]
  },
  {
   "cell_type": "code",
   "execution_count": 8,
   "id": "ace4565a-b1d9-43eb-a9db-831dcd56df0f",
   "metadata": {},
   "outputs": [
    {
     "data": {
      "text/plain": [
       "3"
      ]
     },
     "execution_count": 8,
     "metadata": {},
     "output_type": "execute_result"
    }
   ],
   "source": [
    "dd.weekday()"
   ]
  },
  {
   "cell_type": "code",
   "execution_count": 9,
   "id": "850306e2-16fd-4720-8468-e33d9c486f5f",
   "metadata": {},
   "outputs": [
    {
     "data": {
      "text/plain": [
       "datetime.date(2023, 1, 5)"
      ]
     },
     "execution_count": 9,
     "metadata": {},
     "output_type": "execute_result"
    }
   ],
   "source": [
    "dd"
   ]
  },
  {
   "cell_type": "code",
   "execution_count": null,
   "id": "564dc891-1521-4a3f-a82d-07388c8d1edf",
   "metadata": {},
   "outputs": [],
   "source": []
  }
 ],
 "metadata": {
  "kernelspec": {
   "display_name": "Python 3 (ipykernel)",
   "language": "python",
   "name": "python3"
  },
  "language_info": {
   "codemirror_mode": {
    "name": "ipython",
    "version": 3
   },
   "file_extension": ".py",
   "mimetype": "text/x-python",
   "name": "python",
   "nbconvert_exporter": "python",
   "pygments_lexer": "ipython3",
   "version": "3.9.12"
  }
 },
 "nbformat": 4,
 "nbformat_minor": 5
}
