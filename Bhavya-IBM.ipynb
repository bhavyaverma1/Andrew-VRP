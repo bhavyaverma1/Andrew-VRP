{
  "metadata": {
    "language_info": {
      "codemirror_mode": {
        "name": "python",
        "version": 3
      },
      "file_extension": ".py",
      "mimetype": "text/x-python",
      "name": "python",
      "nbconvert_exporter": "python",
      "pygments_lexer": "ipython3",
      "version": "3.8"
    },
    "kernelspec": {
      "name": "python",
      "display_name": "Pyolite",
      "language": "python"
    }
  },
  "nbformat_minor": 4,
  "nbformat": 4,
  "cells": [
    {
      "cell_type": "markdown",
      "source": "Bhavya's Jupyter Notebook",
      "metadata": {}
    },
    {
      "cell_type": "markdown",
      "source": "Introduction:\nThe following notebook is a solution to an exercise on IBM data science course.",
      "metadata": {}
    },
    {
      "cell_type": "markdown",
      "source": "Data Science Languages:\n    Python, R, Julia, SQL, Java, Scala, etc.",
      "metadata": {}
    },
    {
      "cell_type": "markdown",
      "source": "Data Science Libraries: TensorFlow, NumPy, SciPy, Pandas, PyTorch",
      "metadata": {}
    },
    {
      "cell_type": "markdown",
      "source": "| Platform    | Data Science Tool |\n| -------- | ------- |\n| Amazon AWS | SageMaker    |\n| Azure | AutoML     |\n| Google    | KubeFlow    |",
      "metadata": {}
    },
    {
      "cell_type": "markdown",
      "source": "\\begin{gather*}\na=b+c\\\\\na^2=b^2+c*2-d+e\n\\end{gather*}",
      "metadata": {}
    },
    {
      "cell_type": "code",
      "source": "a=3\nb=4\nc = a + b\nd = a*b",
      "metadata": {
        "trusted": true
      },
      "execution_count": 5,
      "outputs": []
    },
    {
      "cell_type": "code",
      "source": "mins = 540\nhours = mins/60",
      "metadata": {
        "trusted": true
      },
      "execution_count": 8,
      "outputs": []
    },
    {
      "cell_type": "markdown",
      "source": "Objectives:\n1. To Learn about Markdown cells and code cells \n2. Work on Skills Network Labs\n3. Upload to Github",
      "metadata": {}
    },
    {
      "cell_type": "markdown",
      "source": "With love by Bhavya Verma",
      "metadata": {}
    },
    {
      "cell_type": "code",
      "source": "",
      "metadata": {},
      "execution_count": null,
      "outputs": []
    }
  ]
}