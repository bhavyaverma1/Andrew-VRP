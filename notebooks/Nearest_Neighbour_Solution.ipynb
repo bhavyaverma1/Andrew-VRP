{
 "cells": [
  {
   "cell_type": "code",
   "execution_count": 2,
   "metadata": {
    "id": "UTlZJJEqU_mk"
   },
   "outputs": [],
   "source": [
    "import pandas as pd\n",
    "import numpy as np\n",
    "from math import sin, cos, sqrt, atan2\n",
    "import csv\n",
    "import math\n",
    "import pdb"
   ]
  },
  {
   "cell_type": "code",
   "execution_count": null,
   "metadata": {
    "colab": {
     "base_uri": "https://localhost:8080/"
    },
    "id": "_J67ur1eVG6l",
    "outputId": "eaad29fe-1b1e-452c-d028-aafbdc8dd5af"
   },
   "outputs": [
    {
     "name": "stdout",
     "output_type": "stream",
     "text": [
      "Optimized route: [0, 26, 27, 25, 1, 28, 2, 30, 29, 31, 32, 3, 34, 37, 45, 43, 49, 50, 52, 56, 8, 62, 68, 73, 65, 63, 64, 66, 9, 10, 12, 13, 71, 70, 7, 61, 57, 54, 55, 76, 77, 14, 17, 15, 78, 72, 67, 58, 53, 51, 5, 46, 4, 39, 40, 41, 36, 35, 48, 59, 60, 74, 75, 11, 69, 6, 47, 38, 44, 42, 16, 19, 21, 146, 142, 148, 147, 145, 149, 150, 151, 144, 137, 134, 129, 127, 120, 117, 118, 108, 111, 102, 101, 99, 97, 100, 96, 95, 90, 89, 88, 87, 85, 82, 81, 84, 80, 86, 98, 109, 114, 116, 115, 105, 125, 126, 130, 136, 139, 141, 143, 22, 20, 135, 131, 138, 122, 124, 132, 133, 128, 123, 121, 119, 112, 107, 106, 110, 113, 104, 103, 94, 93, 92, 91, 83, 140, 18, 33, 24, 79, 23]\n",
      "Optimized distance: 549.1265872163599\n",
      "Optimized route: ['-34.6825781,138.6693345', '-34.6825781,138.6693345', '-34.6846936,138.6556253', '-34.6819442,138.6836641', '-34.7561355,138.6514788', '-34.7561355,138.6514788', '-34.7720571,138.7089082', '-34.7720571,138.7089082', '-34.7705843,138.7344186', '-34.7967566,138.7060069', '-34.7996109,138.7078888', '-34.8220291,138.7226326', '-34.8220291,138.7226326', '-34.8307492,138.7029293', '-34.8447459,138.6959711', '-34.8425848,138.716613', '-34.8627447,138.6962206', '-34.8661618,138.6994996', '-34.8689002,138.7036742', '-34.8770142,138.7044975', '-34.8794922,138.6905619', '-34.8794922,138.6905619', '-34.8849171,138.6896017', '-34.8893712,138.6904293', '-34.8838335,138.6829783', '-34.8810472,138.6727326', '-34.8815709,138.6713833', '-34.8847309,138.6721202', '-34.8915278,138.6738478', '-34.8968945,138.6811783', '-34.9032498,138.6618199', '-34.90805,138.6443909', '-34.887275,138.6506171', '-34.8864654,138.6527321', '-34.8790745,138.6556894', '-34.8790745,138.6556894', '-34.8772027,138.6625642', '-34.8731752,138.6810188', '-34.8734901,138.6863838', '-34.8905844,138.7227818', '-34.8905844,138.7227818', '-34.9223373,138.6722414', '-34.9378933,138.6531826', '-34.9254255,138.610603', '-34.8906316,138.6233353', '-34.8885103,138.6250079', '-34.8848132,138.6141255', '-34.8777825,138.6378986', '-34.8727383,138.6442177', '-34.8671483,138.6286293', '-34.8531802,138.6163567', '-34.8531802,138.6163567', '-34.8408831,138.6441389', '-34.8408831,138.6441389', '-34.8408831,138.6441389', '-34.8409268,138.6555523', '-34.8284025,138.6663098', '-34.8233571,138.6321373', '-34.8619469,138.5693075', '-34.87802,138.5587667', '-34.878409,138.5853056', '-34.8902634,138.5877418', '-34.8902634,138.5877418', '-34.9007279,138.5199928', '-34.8854663,138.5061722', '-34.855342,138.4797669', '-34.855342,138.4797669', '-34.8361309,138.4968655', '-34.8429991,138.507791', '-34.8421062,138.5087053', '-34.9336734,138.5141918', '-34.9578161,138.569472', '-34.9833229,138.5839169', '-34.996804,138.5791546', '-35.0073062,138.5752841', '-34.995397,138.5637847', '-34.995419,138.5548409', '-34.9971877,138.5375206', '-34.9940707,138.5351754', '-34.9897058,138.5352008', '-34.9892283,138.5354295', '-35.0056656,138.5140733', '-35.0221742,138.5334615', '-35.0312678,138.5347846', '-35.0371398,138.5321366', '-35.0444719,138.5115729', '-35.0622671,138.5078029', '-35.0670367,138.5185862', '-35.0670367,138.5185862', '-35.0851176,138.511651', '-35.0834269,138.4999121', '-35.1127514,138.5220891', '-35.1142216,138.5295524', '-35.1345994,138.5165934', '-35.141235,138.5067481', '-35.1311434,138.4929598', '-35.1432416,138.4747304', '-35.170261,138.4717516', '-35.1920603,138.4924423', '-35.1944598,138.4948838', '-35.2185545,138.4730657', '-35.2672715,138.4669158', '-35.2725313,138.4685164', '-35.2777256,138.4678722', '-35.278193,138.4448867', '-35.2751969,138.4448252', '-35.3264419,138.4523569', '-35.2716139,138.5605281', '-35.1359555,138.5433058', '-35.084311,138.5594724', '-35.0717713,138.6017975', '-35.0685063,138.6085491', '-35.069404,138.6112097', '-35.0875499,138.6043216', '-35.045624,138.6069344', '-35.0454795,138.6221501', '-35.0340874,138.6242836', '-35.0262294,138.6258496', '-35.0142531,138.6214846', '-35.0074641,138.6253862', '-35.0060088,138.6123643', '-34.9858139,138.6145757', '-34.9780028,138.6156444', '-35.0298761,138.5911741', '-35.0331946,138.5590813', '-35.0167665,138.6889158', '-35.0602305,138.727216', '-35.0494443,138.7994865', '-35.0329455,138.8163466', '-35.0315994,138.8167352', '-35.0401028,138.8716014', '-35.0509748,138.872463', '-35.0620633,138.8835157', '-35.0645212,138.8883745', '-35.0819519,138.8830255', '-35.0867463,138.8764609', '-35.0868653,138.8750066', '-35.0838472,138.8937692', '-35.0758454,138.860789', '-35.0906207,138.8545777', '-35.0962434,138.7870646', '-35.1725733,138.8337585', '-35.1772714,138.836007', '-35.178021,138.8350049', '-35.1781225,138.7076535', '-35.2768399,138.9084397', '-35.0104352,138.9651462', '-34.9557963,138.8817805', '-34.8194202,138.9595545', '-34.6072998,138.7535211', '-35.5265585,138.6473818', '-35.5390725,138.6306281']\n"
     ]
    }
   ],
   "source": [
    "import csv\n",
    "import math\n",
    "import pdb\n",
    "\n",
    "bestd = 0\n",
    "\n",
    "def distance(lat1, lon1, lat2, lon2):\n",
    "  # Convert latitude and longitude to spherical coordinates in radians\n",
    "  rlat1, rlon1, rlat2, rlon2 = map(math.radians, [lat1, lon1, lat2, lon2])\n",
    "\n",
    "  # Calculate the Haversine distance\n",
    "  a = math.sin((rlat2 - rlat1) / 2)**2 + math.cos(rlat1) * math.cos(rlat2) * math.sin((rlon2 - rlon1) / 2)**2\n",
    "  c = 2 * math.asin(math.sqrt(a))\n",
    "  r = 6371 # Radius of Earth in kilometers\n",
    "\n",
    "  return c * r\n",
    "\n",
    "def total_distance(points, path):\n",
    "  # Calculate the total distance of a given path through the points\n",
    "  d = 0\n",
    "  for i in range(len(path) - 1):\n",
    "      d += distance(points[path[i]][0], points[path[i]][1], points[path[i + 1]][0], points[path[i + 1]][1])\n",
    "  return d\n",
    "\n",
    "def nearest_neighbor(points, start, num_installers):\n",
    "  # Implement the nearest neighbor algorithm\n",
    "  num_points = len(points)\n",
    "  paths = [[start] for _ in range(num_installers)]\n",
    "  visited = [False for _ in range(num_points)]\n",
    "  visited[start] = True\n",
    "  num_visited = 1\n",
    "  print(paths)\n",
    "  curr_installer = 0\n",
    "  while num_visited < num_points:\n",
    "    min_distance = float('inf')\n",
    "    next_point = None\n",
    "    for i in range(num_points):\n",
    "      if not visited[i]:\n",
    "        d = distance(points[paths[curr_installer][-1]][0], points[paths[curr_installer][-1]][1], points[i][0], points[i][1])\n",
    "        if d < min_distance:\n",
    "          min_distance = d\n",
    "          next_point = i\n",
    "    paths[curr_installer].append(next_point)\n",
    "    num_visited += 1\n",
    "    visited[next_point] = True\n",
    "    curr_installer +=1\n",
    "    if curr_installer > num_installers -1:\n",
    "      curr_installer = 0\n",
    "  print(paths)\n",
    "  return paths\n",
    "\n",
    "\n",
    "# Read in the points from the CSV file\n",
    "points = []\n",
    "with open('Basic-Test-25.csv') as csvfile:\n",
    "  reader = csv.reader(csvfile)\n",
    "  next(reader) # Skip the first row (column labels)\n",
    "  for row in reader:\n",
    "    points.append((float(row[1].split(',')[0]), float(row[1].split(',')[1])))\n",
    "\n",
    "# Find the optimized route using the nearest_neighbor algorithm\n",
    "start = 0\n",
    "optimized_path = nearest_neighbor(points, start, 3)\n",
    "\n",
    "# Calculate the total distance of the optimized routes\n",
    "optimized_distance_1 = total_distance(points, optimized_path[0])\n",
    "optimized_distance_2 = total_distance(points, optimized_path[1])\n",
    "optimized_distance_3 = total_distance(points, optimized_path[2])\n",
    "\n",
    "print(f'Optimized route: {optimized_path}')\n",
    "print(f'Optimized distance: {optimized_distance_1}')\n",
    "\n",
    "# Print the optimized route as a list of geocoordinates\n",
    "optimized_route_1,optimized_route_2,optimized_route_3 = [],[],[]\n",
    "for point in optimized_path[0]:\n",
    "  optimized_route_1.append(f'{points[point][0]},{points[point][1]}')\n",
    "for point in optimized_path[1]:\n",
    "  optimized_route_2.append(f'{points[point][0]},{points[point][1]}')\n",
    "for point in optimized_path[2]:\n",
    "  optimized_route_3.append(f'{points[point][0]},{points[point][1]}')\n",
    "print(f'Optimized route for installer 1: {optimized_route_1}')\n",
    "print(f'Optimized route for installer 2: {optimized_route_2}')\n",
    "print(f'Optimized route for installer 3: {optimized_route_3}')\n"
   ]
  },
  {
   "cell_type": "code",
   "execution_count": null,
   "metadata": {
    "colab": {
     "base_uri": "https://localhost:8080/"
    },
    "id": "B9tJkOXdWT9a",
    "outputId": "9322a2ba-0d37-4118-d4cd-aedf051b1d57"
   },
   "outputs": [
    {
     "name": "stdout",
     "output_type": "stream",
     "text": [
      "Index(['id', 'longitude', 'latitude'], dtype='object')\n"
     ]
    }
   ],
   "source": [
    "df = pd.read_csv('Basic-Test-25.csv')\n",
    "print(df.columns)"
   ]
  }
 ],
 "metadata": {
  "colab": {
   "provenance": []
  },
  "kernelspec": {
   "display_name": "Python 3 (ipykernel)",
   "language": "python",
   "name": "python3"
  },
  "language_info": {
   "codemirror_mode": {
    "name": "ipython",
    "version": 3
   },
   "file_extension": ".py",
   "mimetype": "text/x-python",
   "name": "python",
   "nbconvert_exporter": "python",
   "pygments_lexer": "ipython3",
   "version": "3.9.15"
  }
 },
 "nbformat": 4,
 "nbformat_minor": 1
}
