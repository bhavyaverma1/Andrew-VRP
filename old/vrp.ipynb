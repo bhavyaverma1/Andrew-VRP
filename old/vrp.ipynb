{
 "cells": [
  {
   "cell_type": "code",
   "execution_count": 2,
   "id": "f1d0629d-ccd9-4d90-9435-76a48c05b85e",
   "metadata": {},
   "outputs": [],
   "source": [
    "# from classes import *\n",
    "# from helper_functions import *\n",
    "import pandas as pd\n",
    "import numpy as np\n",
    "from tqdm import tqdm\n",
    "import datetime, time\n",
    "from datetime import date\n",
    "import json\n",
    "import urllib.request\n",
    "import random\n",
    "random.seed(2022)\n",
    "\n",
    "#for routing\n",
    "import haversine as hs\n",
    "import gmaps\n",
    "import googlemaps\n",
    "from ortools.constraint_solver import routing_enums_pb2\n",
    "from ortools.constraint_solver import pywrapcp\n",
    "\n",
    "# for configurations\n",
    "from dotenv import load_dotenv\n",
    "import os, re, math\n",
    "load_dotenv()\n",
    "\n",
    "import warnings\n",
    "warnings.filterwarnings('ignore')"
   ]
  },
  {
   "cell_type": "code",
   "execution_count": 5,
   "id": "8baa0fcb-c0a1-475e-84c0-14c23f917276",
   "metadata": {},
   "outputs": [],
   "source": [
    "# Importing the dataset and configuration parameters\n",
    "data = pd.read_csv('../data/test02.csv')\n",
    "\n",
    "# FACTORY_GEO_COORD = os.getenv(\"FACTORY_GEO_COORD\") \n",
    "# API_KEY = os.getenv(\"API_KEY\")\n",
    "\n",
    "# enter your api key here\n",
    "# gmaps.configure(api_key=API_KEY)"
   ]
  },
  {
   "cell_type": "code",
   "execution_count": 7,
   "id": "e1f91a6f",
   "metadata": {},
   "outputs": [],
   "source": [
    "cols=list(data.columns)"
   ]
  },
  {
   "cell_type": "code",
   "execution_count": 8,
   "id": "19ced22c",
   "metadata": {},
   "outputs": [
    {
     "data": {
      "text/plain": [
       "['id',\n",
       " 'job_geo_coordinate',\n",
       " 'installers_required',\n",
       " 'expected_job_time',\n",
       " 'est_installation_date',\n",
       " 'installation_date',\n",
       " 'arrival_start_time',\n",
       " 'arrival_end_time',\n",
       " 'INSTALLER_IDs']"
      ]
     },
     "execution_count": 8,
     "metadata": {},
     "output_type": "execute_result"
    }
   ],
   "source": [
    "cols"
   ]
  },
  {
   "cell_type": "code",
   "execution_count": 5,
   "id": "95201c71-9bca-44a2-92f4-d702ba573fe0",
   "metadata": {
    "tags": []
   },
   "outputs": [],
   "source": [
    "# PreProcessing\n",
    "df = data[data[\"job_geo_coordinate\"].notnull()] # Extract rows with non-empty coordinates\n",
    "df[['Latitude','Longitude']] = df[\"job_geo_coordinate\"].str.split(',',expand=True) \n",
    "df.reset_index(inplace = True,drop=True)\n",
    "cols=list(df.columns)\n",
    "cols=cols[:2]+cols[-2:]+cols[2:-2]\n",
    "df=df[cols]\n",
    "df.rename(columns={'INSTALLER_IDs': 'installer_ids'}, inplace=True)"
   ]
  },
  {
   "cell_type": "code",
   "execution_count": 7,
   "id": "9789ddea",
   "metadata": {},
   "outputs": [],
   "source": [
    "df.to_csv('data/sorted_data.csv',index=False)"
   ]
  },
  {
   "cell_type": "code",
   "execution_count": null,
   "id": "a8306738-038e-47fd-870b-2c152c99a91b",
   "metadata": {},
   "outputs": [],
   "source": [
    "df_ins1=df[df[\"installers_required\"]==1]"
   ]
  },
  {
   "cell_type": "code",
   "execution_count": null,
   "id": "6f1cae62-3518-473d-bd40-556008f85114",
   "metadata": {},
   "outputs": [],
   "source": [
    "factory_coord = list(map(float,FACTORY_GEO_COORD.split(',')))\n",
    "\n",
    "factory = {\n",
    "    'location': (factory_coord[0],factory_coord[1])\n",
    "}\n",
    "\n",
    "factory_layer = gmaps.symbol_layer(\n",
    "    [factory['location']], hover_text='Factory', info_box_content='Factory', \n",
    "    fill_color='white', stroke_color='red', scale=6\n",
    ")"
   ]
  },
  {
   "cell_type": "code",
   "execution_count": null,
   "id": "d05fe7b7-8603-4888-87ca-71bb457db93a",
   "metadata": {},
   "outputs": [],
   "source": [
    "num_installers = 5"
   ]
  },
  {
   "cell_type": "code",
   "execution_count": null,
   "id": "73185a6f-bce7-4c0e-bbca-15cdd1e888fa",
   "metadata": {},
   "outputs": [],
   "source": [
    "jobs=[]\n",
    "for i in range(len(df_ins1)):\n",
    "    job = { \n",
    "        'id': str(df_ins1.loc[i,'id']),\n",
    "        'location': (float(df_ins1.loc[i,'lat']), float(df_ins1.loc[i,'long']))\n",
    "    }\n",
    "    jobs.append(job)"
   ]
  },
  {
   "cell_type": "code",
   "execution_count": null,
   "id": "8fce1d26-7481-4d97-84e3-eaf6b329aafe",
   "metadata": {},
   "outputs": [],
   "source": [
    "job_locations = [job['location'] for job in jobs]\n",
    "job_labels = [job['id'] for job in jobs]\n",
    "\n",
    "jobs_layer = gmaps.symbol_layer(\n",
    "    job_locations, hover_text=job_labels, \n",
    "    fill_color='white', stroke_color='black', scale=3\n",
    ")"
   ]
  },
  {
   "cell_type": "code",
   "execution_count": null,
   "id": "5841584f-03c2-4c48-9405-87ee3e97808c",
   "metadata": {},
   "outputs": [],
   "source": [
    "fig = gmaps.figure()\n",
    "fig.add_layer(factory_layer)\n",
    "fig.add_layer(jobs_layer)\n",
    "\n",
    "# fig"
   ]
  },
  {
   "cell_type": "code",
   "execution_count": null,
   "id": "1c7b8723",
   "metadata": {},
   "outputs": [],
   "source": [
    "try:\n",
    "    objective = 'distance'  # distance or duration\n",
    "    # Distance Matrix API takes a max 100 elements = (origins x destinations), limit to 10 x 10\n",
    "    distance_matrix = build_dist_mat(factory, jobs[0:9], objective)\n",
    "    df_dist_matrix = pd.DataFrame(distance_matrix)\n",
    "\n",
    "except:\n",
    "    print('Something went wrong building distance matrix.')\n",
    "\n",
    "df_dist_matrix"
   ]
  },
  {
   "cell_type": "code",
   "execution_count": null,
   "id": "e044d311",
   "metadata": {},
   "outputs": [],
   "source": [
    "addr = [item['location'] for item in [factory] + jobs[0:55]]\n",
    "dist_matrix = np.array(create_distance_matrix(addr))"
   ]
  },
  {
   "cell_type": "code",
   "execution_count": null,
   "id": "c19640c7",
   "metadata": {},
   "outputs": [],
   "source": [
    "dist_matrix"
   ]
  },
  {
   "cell_type": "code",
   "execution_count": null,
   "id": "802eeb36",
   "metadata": {},
   "outputs": [],
   "source": []
  },
  {
   "cell_type": "code",
   "execution_count": null,
   "id": "38b368a1",
   "metadata": {},
   "outputs": [],
   "source": []
  },
  {
   "cell_type": "code",
   "execution_count": null,
   "id": "d8a26e7f-81a2-41a6-9fca-5aece1d0384e",
   "metadata": {
    "tags": []
   },
   "outputs": [],
   "source": [
    "for index, row in tqdm(df.iterrows()):\n",
    "    try:\n",
    "        # Check first_date < deadline\n",
    "        if first_date > row[\"est_installation_date\"].date():\n",
    "            print(index,'Unable to process dates before ' + first_date)\n",
    "\n",
    "        #Check if enough installers available\n",
    "        if row[\"installers_required\"] > num_installers:\n",
    "            print(index,'Not enough installers available for this job')\n",
    "\n",
    "        # Calculate which installers can reach next job location earliest\n",
    "        ins_start_time_nextJob = []\n",
    "        ins_travel_times = []\n",
    "        for installer in installers:\n",
    "            time_to_travel = get_travel_time(installer.geo_coord,row[\"job_geo_coordinate\"])\n",
    "            ins_travel_times.append(time_to_travel)\n",
    "            if installer.time_spent + time_to_travel + row[\"expected_job_time\"] > 480:                       # Can add drive back time here\n",
    "                # Shift to next working day\n",
    "                next_date = next_working_date(installer.end_time.date())\n",
    "                installer.start_time = None\n",
    "                installer.end_time = datetime.datetime.combine(next_date,datetime.time()) + datetime.timedelta(hours=8)\n",
    "                installer.reset_location()\n",
    "                installer.reset_time_spent()\n",
    "\n",
    "            arrival_time = installer.end_time + datetime.timedelta(minutes=time_to_travel)                   # arrival time for next job\n",
    "            ins_start_time_nextJob.append((installer.id,arrival_time.strftime('%Y-%m-%d %H:%M:%S')))\n",
    "        ins_start_time_nextJob = sorted(ins_start_time_nextJob,key=lambda x: x[1])\n",
    "\n",
    "        # Installers to send\n",
    "        ins_to_send = []\n",
    "        for i in range(row[\"installers_required\"]):\n",
    "            ins_to_send.append(ins_start_time_nextJob[i][0])\n",
    "\n",
    "        # Update installers' variables\n",
    "        curr_max = datetime.datetime.combine(date.today(),datetime.time()) # Start time for the installer who arrives last\n",
    "        for ins_id in ins_to_send:\n",
    "            installer = installers[ins_id]\n",
    "            curr_travel_time = get_travel_time(installer.geo_coord,row[\"job_geo_coordinate\"])\n",
    "            prev_job_end_time = installer.end_time\n",
    "            installer.start_time = prev_job_end_time + datetime.timedelta(minutes=curr_travel_time)\n",
    "            curr_max = max(curr_max,installer.start_time)\n",
    "\n",
    "        for ins_id in ins_to_send:\n",
    "            installer = installers[ins_id]\n",
    "            curr_travel_time = get_travel_time(installer.geo_coord,row[\"job_geo_coordinate\"])\n",
    "            prev_job_end_time = installer.end_time\n",
    "            installer.avail = False\n",
    "            installer.start_time = curr_max\n",
    "            installer.end_time = installer.start_time + datetime.timedelta(minutes=row[\"expected_job_time\"])\n",
    "            installer.time_spent += row[\"expected_job_time\"] + curr_travel_time\n",
    "            installer.geo_coord = row[\"job_geo_coordinate\"]\n",
    "\n",
    "        job_start_time = curr_max\n",
    "        job_end_time = curr_max + datetime.timedelta(minutes=row[\"expected_job_time\"])\n",
    "        installer_ids = ins_to_send\n",
    "\n",
    "        df.loc[index,'installation_date'] = job_start_time.date()\n",
    "        df.loc[index,'arrival_start_time'] = job_start_time.time()\n",
    "        df.loc[index,'arrival_end_time'] = job_end_time.time()\n",
    "        df.loc[index,'INSTALLER_IDs'] = ','.join(map(str,installer_ids))\n",
    "\n",
    "        # # print(job_start_time,'\\t',job_end_time,'\\t',installer_ids)\n",
    "        # if df.loc[index,'installation_date'] > row[\"est_installation_date\"]:\n",
    "        #     print(index,'Cant accomodate for', row[\"est_installation_date\"])\n",
    "    except:\n",
    "        # print(index)\n",
    "        continue"
   ]
  }
 ],
 "metadata": {
  "kernelspec": {
   "display_name": "Python 3 (ipykernel)",
   "language": "python",
   "name": "python3"
  },
  "language_info": {
   "codemirror_mode": {
    "name": "ipython",
    "version": 3
   },
   "file_extension": ".py",
   "mimetype": "text/x-python",
   "name": "python",
   "nbconvert_exporter": "python",
   "pygments_lexer": "ipython3",
   "version": "3.9.15"
  }
 },
 "nbformat": 4,
 "nbformat_minor": 5
}
