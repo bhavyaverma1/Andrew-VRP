{
 "cells": [
  {
   "cell_type": "code",
   "execution_count": 1,
   "id": "6b301439-c376-4401-b2d3-7ca119cb030e",
   "metadata": {},
   "outputs": [],
   "source": [
    "# importing required libraries\n",
    "import pandas as pd\n",
    "import numpy as np"
   ]
  },
  {
   "cell_type": "code",
   "execution_count": 4,
   "id": "d37df9ec-6afc-42fd-81ef-f035b4ddad9a",
   "metadata": {},
   "outputs": [
    {
     "data": {
      "text/html": [
       "<div>\n",
       "<style scoped>\n",
       "    .dataframe tbody tr th:only-of-type {\n",
       "        vertical-align: middle;\n",
       "    }\n",
       "\n",
       "    .dataframe tbody tr th {\n",
       "        vertical-align: top;\n",
       "    }\n",
       "\n",
       "    .dataframe thead th {\n",
       "        text-align: right;\n",
       "    }\n",
       "</style>\n",
       "<table border=\"1\" class=\"dataframe\">\n",
       "  <thead>\n",
       "    <tr style=\"text-align: right;\">\n",
       "      <th></th>\n",
       "      <th>id</th>\n",
       "      <th>job_geo_coordinate</th>\n",
       "      <th>Latitude</th>\n",
       "      <th>Longitude</th>\n",
       "      <th>installers_required</th>\n",
       "      <th>expected_job_time</th>\n",
       "      <th>est_installation_date</th>\n",
       "      <th>pref_date</th>\n",
       "      <th>pref_time_window</th>\n",
       "      <th>pref_day</th>\n",
       "      <th>pref_installer</th>\n",
       "      <th>installation_date</th>\n",
       "      <th>arrival_start_time</th>\n",
       "      <th>arrival_end_time</th>\n",
       "      <th>INSTALLER_IDs</th>\n",
       "    </tr>\n",
       "  </thead>\n",
       "  <tbody>\n",
       "    <tr>\n",
       "      <th>0</th>\n",
       "      <td>2223</td>\n",
       "      <td>-34.9007279,138.5199928</td>\n",
       "      <td>-34.900728</td>\n",
       "      <td>138.519993</td>\n",
       "      <td>1</td>\n",
       "      <td>150</td>\n",
       "      <td>15/01/2023</td>\n",
       "      <td>15/02/2023</td>\n",
       "      <td>10:00,12:30</td>\n",
       "      <td>1.0</td>\n",
       "      <td>2.0</td>\n",
       "      <td>15/01/2023</td>\n",
       "      <td>08:25:00</td>\n",
       "      <td>10:55:00</td>\n",
       "      <td>1.0</td>\n",
       "    </tr>\n",
       "    <tr>\n",
       "      <th>1</th>\n",
       "      <td>2363</td>\n",
       "      <td>-34.9336734,138.5141918</td>\n",
       "      <td>-34.933673</td>\n",
       "      <td>138.514192</td>\n",
       "      <td>1</td>\n",
       "      <td>120</td>\n",
       "      <td>17/01/2023</td>\n",
       "      <td>NaN</td>\n",
       "      <td>NaN</td>\n",
       "      <td>NaN</td>\n",
       "      <td>2.0</td>\n",
       "      <td>15/01/2023</td>\n",
       "      <td>11:02:00</td>\n",
       "      <td>01:02:00</td>\n",
       "      <td>1.0</td>\n",
       "    </tr>\n",
       "    <tr>\n",
       "      <th>2</th>\n",
       "      <td>2370</td>\n",
       "      <td>-34.8408831,138.6441389</td>\n",
       "      <td>-34.840883</td>\n",
       "      <td>138.644139</td>\n",
       "      <td>1</td>\n",
       "      <td>8</td>\n",
       "      <td>10/01/2023</td>\n",
       "      <td>NaN</td>\n",
       "      <td>NaN</td>\n",
       "      <td>1.0</td>\n",
       "      <td>NaN</td>\n",
       "      <td>15/01/2023</td>\n",
       "      <td>08:00:00</td>\n",
       "      <td>10:00:00</td>\n",
       "      <td>NaN</td>\n",
       "    </tr>\n",
       "  </tbody>\n",
       "</table>\n",
       "</div>"
      ],
      "text/plain": [
       "     id       job_geo_coordinate   Latitude   Longitude  installers_required  \\\n",
       "0  2223  -34.9007279,138.5199928 -34.900728  138.519993                    1   \n",
       "1  2363  -34.9336734,138.5141918 -34.933673  138.514192                    1   \n",
       "2  2370  -34.8408831,138.6441389 -34.840883  138.644139                    1   \n",
       "\n",
       "   expected_job_time est_installation_date   pref_date pref_time_window  \\\n",
       "0                150            15/01/2023  15/02/2023      10:00,12:30   \n",
       "1                120            17/01/2023         NaN              NaN   \n",
       "2                  8            10/01/2023         NaN              NaN   \n",
       "\n",
       "   pref_day  pref_installer installation_date arrival_start_time  \\\n",
       "0       1.0             2.0        15/01/2023           08:25:00   \n",
       "1       NaN             2.0        15/01/2023           11:02:00   \n",
       "2       1.0             NaN        15/01/2023           08:00:00   \n",
       "\n",
       "  arrival_end_time  INSTALLER_IDs  \n",
       "0         10:55:00            1.0  \n",
       "1         01:02:00            1.0  \n",
       "2         10:00:00            NaN  "
      ]
     },
     "execution_count": 4,
     "metadata": {},
     "output_type": "execute_result"
    }
   ],
   "source": [
    "df = pd.read_csv('data/processed_data_10.csv')\n",
    "df.head(3)"
   ]
  },
  {
   "cell_type": "code",
   "execution_count": 5,
   "id": "d2b7a10a-ea7c-471a-a796-f5dd9ce89921",
   "metadata": {},
   "outputs": [],
   "source": [
    "df_raw = df.drop_duplicates(keep='first',ignore_index=True)\n",
    "# Keeping only the important variables for now\n",
    "imp_variables = ['id','job_geo_coordinate','installers_required','expected_job_time','est_installation_date','pref_date','pref_day','pref_installer','pref_time_window','installation_date','arrival_start_time','arrival_end_time','INSTALLER_IDs']\n",
    "temp_df = df_raw[imp_variables]\n",
    "df_clean = temp_df.drop_duplicates(subset='id', keep=\"first\",ignore_index=True)"
   ]
  },
  {
   "cell_type": "code",
   "execution_count": 6,
   "id": "4536496b-7b7e-4435-8945-45c759d470d2",
   "metadata": {},
   "outputs": [],
   "source": [
    "# Calculate travel time and Increase num of installers where exp job time >= 480\n",
    "for i in range(len(df_clean)):\n",
    "    if (df_clean.loc[i,'expected_job_time'] >= 480):\n",
    "        df_clean.loc[i,'expected_job_time'] = np.ceil(df_clean.loc[i,'expected_job_time']/2)\n",
    "        df_clean.loc[i,'installers_required']*=2\n",
    "df_clean = df_clean[df_clean[\"job_geo_coordinate\"].notnull()]\n",
    "df_clean.reset_index(inplace = True,drop=True)"
   ]
  },
  {
   "cell_type": "code",
   "execution_count": 7,
   "id": "28887e45",
   "metadata": {},
   "outputs": [],
   "source": [
    "## !!IMPORTANT CONSTRAINT\n",
    "# df_clean['pref_day'] = df_clean['pref_day']-1 ## Currently assuming original data has day_of_the_week from 1 to 7 --> So remove this line if not the case"
   ]
  },
  {
   "cell_type": "code",
   "execution_count": 8,
   "id": "0533dfd0",
   "metadata": {},
   "outputs": [],
   "source": [
    "df_clean[['Latitude','Longitude']] = df_clean[\"job_geo_coordinate\"].str.split(',',expand=True) \n",
    "cols=list(df_clean.columns)\n",
    "cols=cols[:2]+cols[-2:]+cols[2:-2]\n",
    "df_clean=df_clean[cols]\n",
    "df_clean.rename(columns={'INSTALLER_IDs': 'installer_ids'}, inplace=True)\n",
    "df_clean = df_clean.sort_values(by=['installers_required','id'], ascending=[True,True],ignore_index=True) # Sorting according to installers_required first and then ids\n",
    "df_clean['status'] = None # Adding a status column to keep track of planned jobs"
   ]
  },
  {
   "cell_type": "code",
   "execution_count": 9,
   "id": "8c734963-0742-4db9-b961-3322364cd472",
   "metadata": {},
   "outputs": [],
   "source": [
    "df_clean.to_csv('data/processed_data_10.csv',index=False)"
   ]
  },
  {
   "cell_type": "code",
   "execution_count": null,
   "id": "667ae896",
   "metadata": {},
   "outputs": [],
   "source": []
  }
 ],
 "metadata": {
  "kernelspec": {
   "display_name": "Python 3 (ipykernel)",
   "language": "python",
   "name": "python3"
  },
  "language_info": {
   "codemirror_mode": {
    "name": "ipython",
    "version": 3
   },
   "file_extension": ".py",
   "mimetype": "text/x-python",
   "name": "python",
   "nbconvert_exporter": "python",
   "pygments_lexer": "ipython3",
   "version": "3.9.15"
  }
 },
 "nbformat": 4,
 "nbformat_minor": 5
}
