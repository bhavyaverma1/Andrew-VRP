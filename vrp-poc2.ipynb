{
 "cells": [
  {
   "cell_type": "code",
   "execution_count": 1,
   "id": "f1d0629d-ccd9-4d90-9435-76a48c05b85e",
   "metadata": {},
   "outputs": [],
   "source": [
    "from classes import *\n",
    "from helper_functions import *\n",
    "\n",
    "import pandas as pd\n",
    "import numpy as np\n",
    "from tqdm import tqdm\n",
    "import datetime, time\n",
    "import random\n",
    "random.seed(2022)\n",
    "\n",
    "# for configurations\n",
    "from dotenv import load_dotenv\n",
    "import sys, os, re, math\n",
    "load_dotenv()\n",
    "\n",
    "# for distance matrix\n",
    "import gmaps\n",
    "import googlemaps\n",
    "from haversine import haversine\n",
    "from scipy.spatial.distance import cdist\n",
    "\n",
    "# for routing\n",
    "from ortools.constraint_solver import routing_enums_pb2\n",
    "from ortools.constraint_solver import pywrapcp\n",
    "\n",
    "import warnings\n",
    "warnings.filterwarnings('ignore')"
   ]
  },
  {
   "cell_type": "code",
   "execution_count": 2,
   "id": "3bc61385",
   "metadata": {},
   "outputs": [],
   "source": [
    "file_path = 'data/processed_data.csv'\n",
    "num_vehicles = 5\n",
    "ins_ends_coords = [(-34.8218243,138.7292797),(-34.8104796,138.6111791),(-34.8938435,138.6918266),(-34.7825552,138.610732),(-34.8516117,138.6722955)]"
   ]
  },
  {
   "cell_type": "code",
   "execution_count": 3,
   "id": "8baa0fcb-c0a1-475e-84c0-14c23f917276",
   "metadata": {},
   "outputs": [],
   "source": [
    "# Importing the dataset and configuration parameters\n",
    "data = pd.read_csv(file_path)\n",
    "API_KEY = os.getenv(\"API_KEY\")\n",
    "FACTORY_GEO_COORD = os.getenv(\"FACTORY_GEO_COORD\") \n",
    "factory_coord = list(map(float,FACTORY_GEO_COORD.split(',')))\n",
    "\n",
    "# enter your api key here\n",
    "gmaps.configure(api_key=API_KEY)"
   ]
  },
  {
   "cell_type": "code",
   "execution_count": 4,
   "id": "00fde9a4",
   "metadata": {},
   "outputs": [],
   "source": [
    "## [[DATA HANDLING AND MANIPULATION]]\n",
    "jobs_installer_1 = data[data[\"installers_required\"]==1].reset_index(drop=True)\n",
    "df_pending = jobs_installer_1[['id','Latitude','Longitude']]\n",
    "# Inserting factory location to top\n",
    "new_row = pd.DataFrame({'id':0, 'Latitude':factory_coord[0],'Longitude':factory_coord[1]}, index =[0])\n",
    "df_pending = pd.concat([new_row, df_pending]).reset_index(drop=True)\n",
    "df_pending.set_index('id', inplace=True)\n",
    "df_pending['Latitude'] = df_pending['Latitude'].astype(float)\n",
    "df_pending['Longitude'] = df_pending['Longitude'].astype(float)"
   ]
  },
  {
   "cell_type": "code",
   "execution_count": 5,
   "id": "4b654552",
   "metadata": {},
   "outputs": [],
   "source": [
    "for i in range(len(ins_ends_coords)):\n",
    "    ins_id = i+1\n",
    "    df_pending.loc[ins_id] = [ins_ends_coords[i][0],ins_ends_coords[i][1]]"
   ]
  },
  {
   "cell_type": "code",
   "execution_count": 6,
   "id": "73185a6f-bce7-4c0e-bbca-15cdd1e888fa",
   "metadata": {},
   "outputs": [],
   "source": [
    "jobs, ins_ends = [],[]\n",
    "for i, row in df_pending.iterrows():\n",
    "    if i == 0:\n",
    "        continue\n",
    "    elif i//100 == 0: # Expecting max 100 installers for the program and job_ids no less than 100\n",
    "        ins_end = { 'id': str(i), 'location': (float(row['Latitude']), float(row['Longitude']))  }\n",
    "        ins_ends.append(ins_end)\n",
    "    else:\n",
    "        job = { 'id': str(i), 'location': (float(row['Latitude']), float(row['Longitude']))  }\n",
    "        jobs.append(job)"
   ]
  },
  {
   "cell_type": "code",
   "execution_count": 7,
   "id": "6f1cae62-3518-473d-bd40-556008f85114",
   "metadata": {},
   "outputs": [],
   "source": [
    "factory = {'location': (factory_coord[0],factory_coord[1])}\n",
    "factory_layer = gmaps.symbol_layer([factory['location']], hover_text='Factory', info_box_content='Factory', fill_color='white', stroke_color='red', scale=6)"
   ]
  },
  {
   "cell_type": "code",
   "execution_count": 8,
   "id": "8fce1d26-7481-4d97-84e3-eaf6b329aafe",
   "metadata": {},
   "outputs": [],
   "source": [
    "job_locations = [job['location'] for job in jobs]\n",
    "job_labels = [job['id'] for job in jobs]\n",
    "jobs_layer = gmaps.symbol_layer(\n",
    "    job_locations, hover_text=job_labels, fill_color='white', stroke_color='black', scale=3\n",
    ")"
   ]
  },
  {
   "cell_type": "code",
   "execution_count": 9,
   "id": "f0c241e1",
   "metadata": {},
   "outputs": [],
   "source": [
    "ins_end_locations = [ins_end['location'] for ins_end in ins_ends]\n",
    "ins_labels = [ins_end['id'] for ins_end in ins_ends]\n",
    "ins_ends_layer = gmaps.symbol_layer(\n",
    "    ins_end_locations, hover_text=ins_labels, fill_color='white', stroke_color='red', scale=3\n",
    ")"
   ]
  },
  {
   "cell_type": "code",
   "execution_count": 10,
   "id": "5841584f-03c2-4c48-9405-87ee3e97808c",
   "metadata": {},
   "outputs": [],
   "source": [
    "fig = gmaps.figure()\n",
    "fig.add_layer(factory_layer)\n",
    "fig.add_layer(jobs_layer)\n",
    "fig.add_layer(ins_ends_layer)\n",
    "# fig"
   ]
  },
  {
   "cell_type": "code",
   "execution_count": 11,
   "id": "668515c9",
   "metadata": {
    "scrolled": true
   },
   "outputs": [],
   "source": [
    "demands = [0]\n",
    "for i in range(len(jobs)):\n",
    "    if np.isnan(jobs_installer_1.loc[i,'expected_job_time']):\n",
    "        demands.append(int(60))\n",
    "        continue\n",
    "    demands.append(int(jobs_installer_1.loc[i,'expected_job_time']))"
   ]
  },
  {
   "cell_type": "code",
   "execution_count": 12,
   "id": "4718c41e",
   "metadata": {},
   "outputs": [],
   "source": [
    "end_locations = []\n",
    "for i in range(num_vehicles):\n",
    "    end_locations.append(len(jobs)+i+1)"
   ]
  },
  {
   "cell_type": "code",
   "execution_count": 13,
   "id": "199f4d40",
   "metadata": {},
   "outputs": [],
   "source": [
    "dist_matrix,time_matrix = get_distance_time_matrices(df_pending)"
   ]
  },
  {
   "cell_type": "code",
   "execution_count": 14,
   "id": "4b63510a",
   "metadata": {},
   "outputs": [
    {
     "ename": "TypeError",
     "evalue": "solve_vrp_for() missing 5 required positional arguments: 'end_locations', 'pref_dates', 'pref_days', 'pref_installers', and 'pref_time_windows'",
     "output_type": "error",
     "traceback": [
      "\u001b[0;31m---------------------------------------------------------------------------\u001b[0m",
      "\u001b[0;31mTypeError\u001b[0m                                 Traceback (most recent call last)",
      "Cell \u001b[0;32mIn[14], line 1\u001b[0m\n\u001b[0;32m----> 1\u001b[0m routes,total_distance,total_load \u001b[38;5;241m=\u001b[39m \u001b[43msolve_vrp_for\u001b[49m\u001b[43m(\u001b[49m\u001b[43mtime_matrix\u001b[49m\u001b[43m,\u001b[49m\u001b[43m \u001b[49m\u001b[43mnum_vehicles\u001b[49m\u001b[43m,\u001b[49m\u001b[43m \u001b[49m\u001b[43mdemands\u001b[49m\u001b[43m,\u001b[49m\u001b[43m \u001b[49m\u001b[43mend_locations\u001b[49m\u001b[43m)\u001b[49m\n",
      "\u001b[0;31mTypeError\u001b[0m: solve_vrp_for() missing 5 required positional arguments: 'end_locations', 'pref_dates', 'pref_days', 'pref_installers', and 'pref_time_windows'"
     ]
    }
   ],
   "source": [
    "routes,total_distance,total_load = solve_vrp_for(time_matrix, num_vehicles, demands, end_locations)"
   ]
  },
  {
   "cell_type": "code",
   "execution_count": null,
   "id": "d1309778",
   "metadata": {},
   "outputs": [],
   "source": [
    "def map_solution(factory, jobs, routes):\n",
    "    colors = ['red','yellow','green','blue','#b100cd']\n",
    "    for vehicle_id in routes:\n",
    "        waypoints = []\n",
    "        # skip depot (occupies first and last index)\n",
    "        for job_index in routes[vehicle_id][1:-1]: \n",
    "            waypoints.append(jobs[job_index-1]['location'])\n",
    "        installer_end_location = ins_ends[vehicle_id]['location']\n",
    "        if len(waypoints) == 0:\n",
    "            print('Empty route:', vehicle_id)\n",
    "        else:\n",
    "            route_layer = gmaps.directions_layer(\n",
    "                factory['location'], waypoints[-1], waypoints=waypoints[0:-1], show_markers=False,\n",
    "                stroke_color=colors[vehicle_id], stroke_weight=3, stroke_opacity=0.5)\n",
    "            fig.add_layer(route_layer)\n",
    "            \n",
    "            # complete the route from last shipment to depot\n",
    "            return_layer = gmaps.directions_layer(\n",
    "                waypoints[-1], installer_end_location, show_markers=False,\n",
    "                stroke_color=colors[vehicle_id], stroke_weight=3, stroke_opacity=0.5)\n",
    "            fig.add_layer(return_layer)"
   ]
  },
  {
   "cell_type": "code",
   "execution_count": null,
   "id": "35e3f93c",
   "metadata": {},
   "outputs": [],
   "source": [
    "if routes:\n",
    "    map_solution(factory, jobs, routes)\n",
    "else:\n",
    "    print('No solution found.') \n",
    "\n",
    "fig"
   ]
  },
  {
   "cell_type": "code",
   "execution_count": null,
   "id": "ccea6a8d",
   "metadata": {},
   "outputs": [],
   "source": [
    "## GOOGLE DISTANCE MATRIX API\n",
    "cumul_dist,cumul_time=0,0\n",
    "for route in routes:\n",
    "    total_distance,total_time = 0,0\n",
    "    prev_node = None\n",
    "    curr_node = None\n",
    "    for node in routes[route]:\n",
    "        if prev_node==None:\n",
    "            prev_node = node\n",
    "            continue\n",
    "        curr_node = node\n",
    "        prev_coord = (df_pending.iloc[prev_node]['Latitude'],df_pending.iloc[prev_node]['Longitude'])\n",
    "        curr_coord = (df_pending.iloc[curr_node]['Latitude'],df_pending.iloc[curr_node]['Longitude'])\n",
    "        total_distance += get_distance(prev_coord,curr_coord)\n",
    "        total_time += get_travel_time(prev_coord,curr_coord)\n",
    "#         print(prev_coord, end='--')\n",
    "        prev_node = curr_node\n",
    "#     print(curr_coord)\n",
    "    print(total_distance/1000,total_time)\n",
    "    cumul_dist+=total_distance\n",
    "    cumul_time+=total_time\n",
    "print(cumul_dist/1000,cumul_time)"
   ]
  },
  {
   "cell_type": "code",
   "execution_count": null,
   "id": "4e74249a",
   "metadata": {},
   "outputs": [],
   "source": [
    "# route_1 = routes[0]\n",
    "# optimized_path = []\n",
    "# for i in route_1:\n",
    "# #     print(df_pending.iloc[i,:].Latitude)\n",
    "#     optimized_path.append((df_pending.iloc[i,:].Latitude,df_pending.iloc[i,:].Longitude))"
   ]
  },
  {
   "cell_type": "code",
   "execution_count": null,
   "id": "ce16dc4d",
   "metadata": {},
   "outputs": [],
   "source": [
    "# for i in optimized_path:\n",
    "#     print(str(i[0])+','+str(i[1]),end=',\\n')\n",
    "# time_matrix[0][46],time_matrix[7][46],time_matrix[7][93],time_matrix[93][38],time_matrix[38][102],time_matrix[102][50],time_matrix[50][16],time_matrix[16][94],time_matrix[94][108]"
   ]
  },
  {
   "cell_type": "code",
   "execution_count": null,
   "id": "ccca22a8",
   "metadata": {},
   "outputs": [],
   "source": [
    "# planned_ids=[]\n",
    "# for route in routes:\n",
    "#     for node in routes[route]:\n",
    "#         if df_pending.index[node]//100 != 0:\n",
    "#             planned_ids.append(df_pending.index[node])"
   ]
  },
  {
   "cell_type": "code",
   "execution_count": null,
   "id": "ed8c2b1d",
   "metadata": {},
   "outputs": [],
   "source": [
    "routes"
   ]
  },
  {
   "cell_type": "code",
   "execution_count": null,
   "id": "837acca3",
   "metadata": {},
   "outputs": [],
   "source": [
    "# for route in routes:\n",
    "#     sum=0\n",
    "#     for j in range(len(routes[route])):\n",
    "#         try:\n",
    "#             node_1 =routes[route][j]\n",
    "#             node_2 = routes[route][j+1]\n",
    "#             sum+=time_matrix[node_1][node_2]\n",
    "#         except:\n",
    "#             print(sum)\n",
    "#             continue"
   ]
  }
 ],
 "metadata": {
  "kernelspec": {
   "display_name": "Python 3 (ipykernel)",
   "language": "python",
   "name": "python3"
  },
  "language_info": {
   "codemirror_mode": {
    "name": "ipython",
    "version": 3
   },
   "file_extension": ".py",
   "mimetype": "text/x-python",
   "name": "python",
   "nbconvert_exporter": "python",
   "pygments_lexer": "ipython3",
   "version": "3.9.15"
  }
 },
 "nbformat": 4,
 "nbformat_minor": 5
}
